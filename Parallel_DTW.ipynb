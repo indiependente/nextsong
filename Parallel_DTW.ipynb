{
 "cells": [
  {
   "cell_type": "code",
   "execution_count": 80,
   "metadata": {
    "collapsed": true
   },
   "outputs": [],
   "source": [
    "import numpy as np\n",
    "import cPickle as pickle\n",
    "from pydtw import dtw2d\n",
    "from joblib import Parallel, delayed"
   ]
  },
  {
   "cell_type": "code",
   "execution_count": 81,
   "metadata": {
    "collapsed": true
   },
   "outputs": [],
   "source": [
    "def pickle_this(data, filename='distance_matrix.p'):\n",
    "    pickle.dump(data, open(filename, 'wb'))"
   ]
  },
  {
   "cell_type": "code",
   "execution_count": 82,
   "metadata": {
    "collapsed": true
   },
   "outputs": [],
   "source": [
    "def inner_loop(sample, i, n):\n",
    "    row = np.zeros((n,))\n",
    "    for j in xrange(i, n):\n",
    "        row[j] = dtw2d(sample[i], sample[j])[-1,-1]\n",
    "    return row"
   ]
  },
  {
   "cell_type": "code",
   "execution_count": 83,
   "metadata": {
    "collapsed": true
   },
   "outputs": [],
   "source": [
    "sample = pickle.load( open( 'sample_pitches.p', 'rb' ) )"
   ]
  },
  {
   "cell_type": "code",
   "execution_count": 99,
   "metadata": {
    "collapsed": false
   },
   "outputs": [],
   "source": [
    "n = 4\n",
    "idxs = np.random.choice(len(sample), n)\n",
    "subset = sample[idxs]"
   ]
  },
  {
   "cell_type": "code",
   "execution_count": 95,
   "metadata": {
    "collapsed": false
   },
   "outputs": [
    {
     "name": "stdout",
     "output_type": "stream",
     "text": [
      "[[    0.          1766.58088787  1668.80347053  1720.59559259]\n",
      " [    0.             0.          1429.22276921   991.13049528]\n",
      " [    0.             0.             0.          1393.70271966]\n",
      " [    0.             0.             0.             0.        ]]\n"
     ]
    }
   ],
   "source": [
    "distance_matrix = np.asmatrix(Parallel(n_jobs=6)(delayed(inner_loop)(subset, i, n) for i in range(n)))\n",
    "print distance_matrix"
   ]
  }
 ],
 "metadata": {
  "kernelspec": {
   "display_name": "Python 2",
   "language": "python",
   "name": "python2"
  },
  "language_info": {
   "codemirror_mode": {
    "name": "ipython",
    "version": 2
   },
   "file_extension": ".py",
   "mimetype": "text/x-python",
   "name": "python",
   "nbconvert_exporter": "python",
   "pygments_lexer": "ipython2",
   "version": "2.7.11"
  }
 },
 "nbformat": 4,
 "nbformat_minor": 0
}
